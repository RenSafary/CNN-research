{
 "cells": [
  {
   "cell_type": "code",
   "execution_count": 21,
   "metadata": {},
   "outputs": [],
   "source": [
    "import torch\n",
    "import torch.nn as nn\n",
    "import torch.nn.functional as F\n",
    "import torch.optim as optim\n",
    "from torch.utils.data import Dataset, DataLoader\n",
    "from torchvision import transforms\n",
    "\n",
    "import os\n",
    "from PIL import Image"
   ]
  },
  {
   "cell_type": "code",
   "execution_count": 22,
   "metadata": {},
   "outputs": [
    {
     "data": {
      "text/plain": [
       "device(type='cuda')"
      ]
     },
     "execution_count": 22,
     "metadata": {},
     "output_type": "execute_result"
    }
   ],
   "source": [
    "device = torch.device(\"cuda\" if torch.cuda.is_available else \"cpu\")\n",
    "device"
   ]
  },
  {
   "cell_type": "code",
   "execution_count": 23,
   "metadata": {},
   "outputs": [],
   "source": [
    "class DogsVsCats(Dataset):\n",
    "    def __init__(self, path_dir1, path_dir2, transform=None):\n",
    "        self.transform = transform\n",
    "        self.dog_paths = [(os.path.join(path_dir1, f)) for f in sorted(os.listdir(path_dir1))]\n",
    "        self.cat_paths = [(os.path.join(path_dir2, f)) for f in sorted(os.listdir(path_dir2))]\n",
    "\n",
    "    def __len__(self):\n",
    "        return len(self.dog_paths) + len(self.cat_paths)\n",
    "    \n",
    "    def __getitem__(self, i):\n",
    "        if i < len(self.dog_paths):\n",
    "            label = 0\n",
    "            img_path = self.dog_paths[i]\n",
    "        else:\n",
    "            label = 1\n",
    "            img_path = self.cat_paths[i - len(self.dog_paths)]\n",
    "\n",
    "        img = Image.open(img_path).convert(\"RGB\")\n",
    "        if self.transform:\n",
    "            img = self.transform(img)\n",
    "        \n",
    "        label = torch.tensor(label)\n",
    "\n",
    "        return img, label"
   ]
  },
  {
   "cell_type": "code",
   "execution_count": 24,
   "metadata": {},
   "outputs": [],
   "source": [
    "transform = transforms.Compose([\n",
    "    transforms.Resize((300, 256)),\n",
    "    transforms.RandomHorizontalFlip(),\n",
    "    transforms.RandomVerticalFlip(),\n",
    "    transforms.ToTensor(),\n",
    "    transforms.Normalize(mean=[0.5, 0.5, 0.5], std=[0.5, 0.5, 0.5])\n",
    "])"
   ]
  },
  {
   "cell_type": "code",
   "execution_count": 25,
   "metadata": {},
   "outputs": [],
   "source": [
    "dogs_path_train = \"./data/train/Dog/\"\n",
    "cats_path_train = \"./data/train/Cat/\"\n",
    "\n",
    "dogs_path_test = \"./data/test/Dog/\"\n",
    "cats_path_test = \"./data/test/Cat/\"\n",
    "\n",
    "dogs_vs_cats_train_dataset = DogsVsCats(dogs_path_train, cats_path_train, transform)\n",
    "dogs_vs_cats_test_dataset = DogsVsCats(dogs_path_test, cats_path_test, transform)"
   ]
  },
  {
   "cell_type": "code",
   "execution_count": 26,
   "metadata": {},
   "outputs": [],
   "source": [
    "train_loader = DataLoader(dataset=dogs_vs_cats_train_dataset, batch_size=64, shuffle=True)\n",
    "test_loader = DataLoader(dataset=dogs_vs_cats_test_dataset, batch_size=64, shuffle=False)"
   ]
  },
  {
   "cell_type": "code",
   "execution_count": 27,
   "metadata": {},
   "outputs": [],
   "source": [
    "class NeuralNet(nn.Module):\n",
    "    def __init__(self):\n",
    "        super(NeuralNet, self).__init__()\n",
    "        self.maxpool = nn.MaxPool2d(2,2)\n",
    "        self.conv1 = nn.Conv2d(3, 128, 3, stride=1, padding=0)\n",
    "        self.conv2 = nn.Conv2d(128, 128, 3, stride=1, padding=0)\n",
    "        self.conv3 = nn.Conv2d(128, 256, 3, stride=1, padding=0)\n",
    "\n",
    "        self.layer1 = nn.Linear(256 * 35 * 30, 20)\n",
    "        self.layer2 = nn.Linear(20, 2)\n",
    "\n",
    "    def forward(self, x):\n",
    "        x = self.maxpool(F.relu(self.conv1(x)))\n",
    "        x = self.maxpool(F.relu(self.conv2(x)))\n",
    "        x = self.maxpool(F.relu(self.conv3(x)))\n",
    "\n",
    "        x = x.view(-1, 256 * 35 * 30)\n",
    "        x = F.relu(self.layer1(x))\n",
    "        x = self.layer2(x)\n",
    "        return x"
   ]
  },
  {
   "cell_type": "code",
   "execution_count": 28,
   "metadata": {},
   "outputs": [],
   "source": [
    "model = NeuralNet()\n",
    "model = model.to(device)\n",
    "\n",
    "criterion = nn.CrossEntropyLoss()\n",
    "optimizer = optim.SGD(model.parameters(), lr=0.01, momentum=0.9)"
   ]
  },
  {
   "cell_type": "code",
   "execution_count": 29,
   "metadata": {},
   "outputs": [
    {
     "name": "stdout",
     "output_type": "stream",
     "text": [
      "Epoch: [1/15], Loss: 0.6318\n",
      "Epoch: [2/15], Loss: 0.5751\n",
      "Epoch: [3/15], Loss: 0.5958\n",
      "Epoch: [4/15], Loss: 0.7371\n",
      "Epoch: [5/15], Loss: 0.4854\n",
      "Epoch: [6/15], Loss: 0.5201\n",
      "Epoch: [7/15], Loss: 0.2762\n",
      "Epoch: [8/15], Loss: 0.3338\n",
      "Epoch: [9/15], Loss: 0.2968\n",
      "Epoch: [10/15], Loss: 0.3198\n",
      "Epoch: [11/15], Loss: 0.5266\n",
      "Epoch: [12/15], Loss: 0.2657\n",
      "Epoch: [13/15], Loss: 0.4000\n",
      "Epoch: [14/15], Loss: 0.2828\n",
      "Epoch: [15/15], Loss: 0.5356\n"
     ]
    }
   ],
   "source": [
    "epochs = 15\n",
    "\n",
    "for epoch in range(epochs):\n",
    "    for inputs, labels in train_loader:\n",
    "        inputs = inputs.to(device)\n",
    "        labels = labels.to(device)\n",
    "        optimizer.zero_grad()\n",
    "        outputs = model(inputs)\n",
    "        loss = criterion(outputs, labels)\n",
    "        loss.backward()\n",
    "        optimizer.step()\n",
    "\n",
    "    if (epoch + 1) % 1 == 0: \n",
    "        print(f\"Epoch: [{epoch + 1}/{epochs}], Loss: {loss.item():.4f}\")"
   ]
  },
  {
   "cell_type": "code",
   "execution_count": 30,
   "metadata": {},
   "outputs": [
    {
     "name": "stdout",
     "output_type": "stream",
     "text": [
      "Test Accuracy: 82.96%\n"
     ]
    }
   ],
   "source": [
    "correct, total = 0, 0\n",
    "\n",
    "model.eval()\n",
    "with torch.no_grad():\n",
    "    for inputs, labels in test_loader:\n",
    "        inputs, labels = inputs.to(device), labels.to(device)\n",
    "        prediction = model(inputs)\n",
    "        _, predicted = torch.max(prediction, dim=1)\n",
    "        total += labels.size(0)\n",
    "        correct += (predicted == labels).sum().item()\n",
    "\n",
    "accuracy = correct / total\n",
    "print(f\"Test Accuracy: {accuracy*100:.2f}%\")"
   ]
  },
  {
   "cell_type": "code",
   "execution_count": 34,
   "metadata": {},
   "outputs": [
    {
     "data": {
      "text/plain": [
       "'Dog'"
      ]
     },
     "execution_count": 34,
     "metadata": {},
     "output_type": "execute_result"
    }
   ],
   "source": [
    "classes = {\n",
    "    0:\"Dog\",\n",
    "    1:\"Cat\",\n",
    "}\n",
    "\n",
    "image = Image.open(\"./puppy.jpg\")\n",
    "transform = transforms.Compose([transforms.ToTensor(), \n",
    "                                transforms.Resize((300, 256))])\n",
    "image_tensor = transform(image)\n",
    "\n",
    "predicted_class = model(image_tensor.unsqueeze(0).to(device))\n",
    "\n",
    "with torch.no_grad():\n",
    "    predicted = torch.argmax(predicted_class)\n",
    "classes.get(int(predicted))"
   ]
  },
  {
   "cell_type": "code",
   "execution_count": 37,
   "metadata": {},
   "outputs": [],
   "source": [
    "torch.save(model.state_dict, 'model.pt')"
   ]
  }
 ],
 "metadata": {
  "kernelspec": {
   "display_name": "Python 3",
   "language": "python",
   "name": "python3"
  },
  "language_info": {
   "codemirror_mode": {
    "name": "ipython",
    "version": 3
   },
   "file_extension": ".py",
   "mimetype": "text/x-python",
   "name": "python",
   "nbconvert_exporter": "python",
   "pygments_lexer": "ipython3",
   "version": "3.11.1"
  }
 },
 "nbformat": 4,
 "nbformat_minor": 2
}
